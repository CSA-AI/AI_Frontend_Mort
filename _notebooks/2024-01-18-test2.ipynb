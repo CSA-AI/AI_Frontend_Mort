{
 "cells": [
  {
   "cell_type": "markdown",
   "metadata": {},
   "source": [
    "---\n",
    "toc: true\n",
    "comments: true\n",
    "layout: post\n",
    "title: Java Exploits and Cybersecurity\n",
    "description: Lesson on Java exploits and cybersecurity.\n",
    "courses: { csa: {week: 17} }\n",
    "authors: David, Ethan, Alex, Jishnu, Kaiden, Derrick\n",
    "type: collab\n",
    "---"
   ]
  },
  {
   "cell_type": "markdown",
   "metadata": {},
   "source": [
    "#### Sirius Song Receives 2022 Undergraduate Summer Research Award\n",
    "\n",
    "This award...adfadf"
   ]
  }
 ],
 "metadata": {
  "language_info": {
   "name": "python"
  }
 },
 "nbformat": 4,
 "nbformat_minor": 2
}
