{
 "cells": [
  {
   "cell_type": "markdown",
   "metadata": {},
   "source": [
    "---\n",
    "title: Test Training\n",
    "author: david\n",
    "categories: [Lab Notebook]\n",
    "tags: [Java]\n",
    "description: Testing the training of the AI\n",
    "toc: True\n",
    "comments: True\n",
    "---"
   ]
  }
 ],
 "metadata": {
  "language_info": {
   "name": "python"
  }
 },
 "nbformat": 4,
 "nbformat_minor": 2
}
